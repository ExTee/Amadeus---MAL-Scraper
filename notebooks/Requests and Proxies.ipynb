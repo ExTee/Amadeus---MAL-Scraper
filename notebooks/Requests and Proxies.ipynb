{
 "cells": [
  {
   "cell_type": "code",
   "execution_count": 1,
   "metadata": {
    "collapsed": true
   },
   "outputs": [],
   "source": [
    "import requests"
   ]
  },
  {
   "cell_type": "code",
   "execution_count": null,
   "metadata": {
    "collapsed": true
   },
   "outputs": [],
   "source": [
    "url = 'https://httpbin.org/ip'"
   ]
  },
  {
   "cell_type": "code",
   "execution_count": null,
   "metadata": {
    "collapsed": true
   },
   "outputs": [],
   "source": [
    "proxies = {\n",
    "    \"https\": 'http://95.172.59.30:48526'\n",
    "}"
   ]
  },
  {
   "cell_type": "code",
   "execution_count": null,
   "metadata": {},
   "outputs": [],
   "source": [
    "response = requests.get(url,proxies=proxies)\n",
    "print(response.json())"
   ]
  },
  {
   "cell_type": "code",
   "execution_count": 2,
   "metadata": {
    "collapsed": true
   },
   "outputs": [],
   "source": [
    "\"\"\"\n",
    "From\n",
    "https://www.scrapehero.com/how-to-rotate-proxies-and-ip-addresses-using-python-3/\n",
    "\"\"\"\n",
    "import requests\n",
    "from lxml.html import fromstring\n",
    "def get_proxies():\n",
    "    url = 'https://www.sslproxies.org/'\n",
    "    response = requests.get(url)\n",
    "    parser = fromstring(response.text)\n",
    "    proxies = set()\n",
    "    for i in parser.xpath('//tbody/tr')[:10]:\n",
    "        if i.xpath('.//td[7][contains(text(),\"yes\")]'):\n",
    "            #Grabbing IP and corresponding PORT\n",
    "            proxy = \":\".join([i.xpath('.//td[1]/text()')[0], i.xpath('.//td[2]/text()')[0]])\n",
    "            proxies.add(proxy)\n",
    "    return proxies"
   ]
  },
  {
   "cell_type": "code",
   "execution_count": 9,
   "metadata": {},
   "outputs": [],
   "source": [
    "from itertools import cycle\n",
    "c = cycle(get_proxies())"
   ]
  },
  {
   "cell_type": "code",
   "execution_count": 17,
   "metadata": {},
   "outputs": [
    {
     "data": {
      "text/plain": [
       "'203.189.148.2:38905'"
      ]
     },
     "execution_count": 17,
     "metadata": {},
     "output_type": "execute_result"
    }
   ],
   "source": [
    "next(c)"
   ]
  },
  {
   "cell_type": "code",
   "execution_count": null,
   "metadata": {
    "collapsed": true
   },
   "outputs": [],
   "source": []
  },
  {
   "cell_type": "code",
   "execution_count": null,
   "metadata": {
    "collapsed": true
   },
   "outputs": [],
   "source": [
    "import requests\n",
    "from lxml.html import fromstring\n",
    "from itertools import cycle\n",
    "from multiprocessing import \n",
    "    \n",
    "'''\n",
    "    Class which cycles proxies.\n",
    "    Robust to multiprocessing\n",
    "'''\n",
    "class Proxy_Cycler(object):\n",
    "    def __init__(self):\n",
    "        self.proxy_cycle = cycle(get_proxy_list())\n",
    "        \n",
    "    \n",
    "    def get_next_proxy(self):\n",
    "        with self\n",
    "        \n",
    "    \n",
    "    \n",
    "    \"\"\"\n",
    "    From\n",
    "    https://www.scrapehero.com/how-to-rotate-proxies-and-ip-addresses-using-python-3/\n",
    "    \"\"\"\n",
    "    def get_proxy_list():\n",
    "        url = 'https://www.sslproxies.org/'\n",
    "        response = requests.get(url)\n",
    "        parser = fromstring(response.text)\n",
    "        proxies = set()\n",
    "        for i in parser.xpath('//tbody/tr')[:10]:\n",
    "            if i.xpath('.//td[7][contains(text(),\"yes\")]'):\n",
    "                #Grabbing IP and corresponding PORT\n",
    "                proxy = \":\".join([i.xpath('.//td[1]/text()')[0], i.xpath('.//td[2]/text()')[0]])\n",
    "                proxies.add(proxy)\n",
    "        return proxies"
   ]
  },
  {
   "cell_type": "code",
   "execution_count": 32,
   "metadata": {},
   "outputs": [
    {
     "name": "stdout",
     "output_type": "stream",
     "text": [
      "set(['81.23.187.38:34060', '192.140.42.81:48164', '103.252.184.238:40749', '103.106.148.232:61150', '81.248.43.115:44943', '5.58.149.229:60704', '91.225.165.4:50090', '118.173.232.103:61416', '182.93.85.242:30414', '110.136.205.9:33753'])\n",
      "{u'origin': u'103.252.184.238'}\n",
      "{u'origin': u'200.13.136.124'}\n",
      "{u'origin': u'91.225.165.4'}\n"
     ]
    }
   ],
   "source": [
    "available_proxis = get_proxies()\n",
    "print available_proxis\n",
    "\n",
    "for px in available_proxis:\n",
    "    \n",
    "    p = {\n",
    "    \"https\": 'http://{}'.format(px)\n",
    "    }\n",
    "\n",
    "    url = 'https://httpbin.org/ip'\n",
    "    \n",
    "    try:\n",
    "        response = requests.get(url,proxies=p)\n",
    "        print(response.json())\n",
    "    except:\n",
    "        pass\n",
    "    \n"
   ]
  },
  {
   "cell_type": "code",
   "execution_count": null,
   "metadata": {
    "collapsed": true
   },
   "outputs": [],
   "source": []
  }
 ],
 "metadata": {
  "kernelspec": {
   "display_name": "Python 3",
   "language": "python",
   "name": "python3"
  },
  "language_info": {
   "codemirror_mode": {
    "name": "ipython",
    "version": 2
   },
   "file_extension": ".py",
   "mimetype": "text/x-python",
   "name": "python",
   "nbconvert_exporter": "python",
   "pygments_lexer": "ipython2",
   "version": "2.7.13"
  }
 },
 "nbformat": 4,
 "nbformat_minor": 2
}
