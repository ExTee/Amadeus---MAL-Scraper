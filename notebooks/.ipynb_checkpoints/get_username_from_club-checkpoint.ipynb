{
 "cells": [
  {
   "cell_type": "code",
   "execution_count": 8,
   "metadata": {
    "collapsed": true
   },
   "outputs": [],
   "source": [
    "from requests import get\n",
    "from bs4 import BeautifulSoup as soup"
   ]
  },
  {
   "cell_type": "code",
   "execution_count": 23,
   "metadata": {},
   "outputs": [],
   "source": [
    "#Create soup\n",
    "URL = 'https://myanimelist.net/clubs.php?action=view&t=members&id=20243&show=2430'\n",
    "\n",
    "\n",
    "response = get(URL)\n",
    "html_soup = soup(response.text, 'html.parser')"
   ]
  },
  {
   "cell_type": "code",
   "execution_count": 33,
   "metadata": {},
   "outputs": [
    {
     "data": {
      "text/plain": [
       "False"
      ]
     },
     "execution_count": 33,
     "metadata": {},
     "output_type": "execute_result"
    }
   ],
   "source": [
    "html_soup.head == None"
   ]
  },
  {
   "cell_type": "code",
   "execution_count": 35,
   "metadata": {},
   "outputs": [],
   "source": [
    "'''\n",
    "    Obtains usernames from url, save them into csv file corresponding to Club ID.\n",
    "    \n",
    "    Args:\n",
    "        CID : club id corresponding to url\n",
    "        \n",
    "    Example:\n",
    "'''\n",
    "def get_users_from_club(CID):\n",
    "    \n",
    "    #Url which accesses users of a club\n",
    "    URL = \"https://myanimelist.net/clubs.php?action=view&t=members&id={}&show={}\".format(CID,{})\n",
    "    #Offset at which users are displayed\n",
    "    OFFSET = 0\n",
    "    \n",
    "    while(True):\n",
    "        response = get(URL.format(OFFSET))\n",
    "        html_soup = soup(response.text, 'html.parser')\n",
    "        response.close()\n",
    "        \n",
    "        if html_soup.table == None:\n",
    "            print (\"No more users to grab\")\n",
    "            break\n",
    "        else:\n",
    "\n",
    "            #Get html table containing users\n",
    "            user_table = html_soup.table.find_all('a')\n",
    "\n",
    "            #loop through each entry\n",
    "            users = []\n",
    "            for entry in user_table:\n",
    "                username = entry.text.strip()\n",
    "\n",
    "                #Some names are just images\n",
    "                if username:\n",
    "                    users.append(username)\n",
    "\n",
    "            # write to file\n",
    "            f = open('{}.csv'.format(CID),'a')\n",
    "            f.write(\"\\n\".join(users))\n",
    "            f.close()\n",
    "            \n",
    "            OFFSET += 36\n",
    "            \n",
    "get_users_from_club(59)"
   ]
  },
  {
   "cell_type": "code",
   "execution_count": 56,
   "metadata": {
    "scrolled": true
   },
   "outputs": [
    {
     "name": "stdout",
     "output_type": "stream",
     "text": [
      "No more users\n"
     ]
    }
   ],
   "source": [
    "try:\n",
    "    user_table = html_soup.table.find_all('a')\n",
    "except:\n",
    "    print (\"No more users\")"
   ]
  },
  {
   "cell_type": "code",
   "execution_count": 58,
   "metadata": {
    "collapsed": true
   },
   "outputs": [],
   "source": [
    "CID_range = range(23990,24000) "
   ]
  },
  {
   "cell_type": "code",
   "execution_count": null,
   "metadata": {
    "scrolled": false
   },
   "outputs": [
    {
     "name": "stdout",
     "output_type": "stream",
     "text": [
      "No more users found. Club 23990 scraped.\n",
      "No more users found. Club 23991 scraped.\n",
      "No more users found. Club 23992 scraped.\n",
      "No more users found. Club 23993 scraped.\n",
      "No more users found. Club 23994 scraped.\n",
      "No more users found. Club 23995 scraped.\n",
      "No more users found. Club 23996 scraped.\n",
      "No more users found. Club 23997 scraped.\n",
      "No more users found. Club 23998 scraped.\n"
     ]
    }
   ],
   "source": [
    "#Loop through all Clubs in range\n",
    "for CID in CID_range:\n",
    "    SHOW = 0\n",
    "    response = get(URL.format(CID,SHOW))\n",
    "    html_soup = soup(response.text, 'html.parser')\n",
    "    \n",
    "    while(True):\n",
    "        \n",
    "        try:\n",
    "            #Get html table containing users\n",
    "            user_table = html_soup.table.find_all('a')\n",
    "\n",
    "            #loop through each entry\n",
    "            users = []\n",
    "            for entry in user_table:\n",
    "                username = entry.text.strip()\n",
    "\n",
    "                #Some names are just images\n",
    "                if username:\n",
    "                    users.append(username)\n",
    "\n",
    "            # write to file\n",
    "            f = open('{}.csv'.format(CID),'a')\n",
    "            f.write(\"\\n\".join(users))\n",
    "            f.close()\n",
    "            \n",
    "            #increment SHOW\n",
    "            SHOW += 36\n",
    "            \n",
    "        except:\n",
    "            print(\"No more users found. Club {} scraped.\".format(CID))\n",
    "            break\n",
    "            \n"
   ]
  },
  {
   "cell_type": "code",
   "execution_count": null,
   "metadata": {
    "collapsed": true
   },
   "outputs": [],
   "source": [
    "https://myanimelist.net/clubs.php?id=39921&action=view&t=members\n",
    "https://myanimelist.net/clubs.php?action=view&t=members&id=907&show=36\n",
    "    \n",
    "https://myanimelist.net/clubs.php?action=view&t=members&id=907&show=29412"
   ]
  },
  {
   "cell_type": "code",
   "execution_count": 7,
   "metadata": {},
   "outputs": [
    {
     "data": {
      "text/plain": [
       "'https://myanimelist.net/clubs.php?action=view&t=members&id=15&show=10'"
      ]
     },
     "execution_count": 7,
     "metadata": {},
     "output_type": "execute_result"
    }
   ],
   "source": [
    "\"https://myanimelist.net/clubs.php?action=view&t=members&id={}&show={}\".format(15, {}\n",
    "                                                                              ).format(10)"
   ]
  },
  {
   "cell_type": "code",
   "execution_count": null,
   "metadata": {
    "collapsed": true
   },
   "outputs": [],
   "source": []
  }
 ],
 "metadata": {
  "kernelspec": {
   "display_name": "Python 3",
   "language": "python",
   "name": "python3"
  },
  "language_info": {
   "codemirror_mode": {
    "name": "ipython",
    "version": 2
   },
   "file_extension": ".py",
   "mimetype": "text/x-python",
   "name": "python",
   "nbconvert_exporter": "python",
   "pygments_lexer": "ipython2",
   "version": "2.7.13"
  }
 },
 "nbformat": 4,
 "nbformat_minor": 2
}
