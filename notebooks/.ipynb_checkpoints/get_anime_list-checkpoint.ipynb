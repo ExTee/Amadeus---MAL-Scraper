{
 "cells": [
  {
   "cell_type": "code",
   "execution_count": 14,
   "metadata": {
    "collapsed": true
   },
   "outputs": [],
   "source": [
    "from requests import get\n",
    "from bs4 import BeautifulSoup as soup\n",
    "from time import sleep\n",
    "import re\n",
    "\n",
    "\n",
    "#Create soup\n",
    "URL = 'https://myanimelist.net/animelist/{}?status=7'\n",
    "\n",
    "# USERNAME = \"zanmato666\"\n",
    "# USERNAME = \"-Arlequin-\"\n",
    "# USERNAME = \"zzzcielo\"\n",
    "USERNAME = \"zzzdj\"\n",
    "\n",
    "response = get(URL.format(USERNAME))\n",
    "html_soup = soup(response.text, 'html.parser')"
   ]
  },
  {
   "cell_type": "code",
   "execution_count": 16,
   "metadata": {},
   "outputs": [
    {
     "data": {
      "text/plain": [
       "[<tr class=\"list-table-header\"><th class=\"header-title status\"></th><th class=\"header-title number\">#</th><th class=\"header-title image\"><a class=\"link hover_info\">Image</a></th><th class=\"header-title title\"><a class=\"link sort\" href=\"https://myanimelist.net/animelist/zzzdj?status=7&amp;order=1&amp;order2=0\">\\n            Anime Title\\n                      </a></th><th class=\"header-title score\"><a class=\"link sort\" href=\"https://myanimelist.net/animelist/zzzdj?status=7&amp;order=4&amp;order2=0\">\\n            Score\\n                      </a></th><th class=\"header-title type\"><a class=\"link sort\" href=\"https://myanimelist.net/animelist/zzzdj?status=7&amp;order=6&amp;order2=0\">\\n            Type\\n                      </a></th><th class=\"header-title progress\"><a class=\"link sort\" href=\"https://myanimelist.net/animelist/zzzdj?status=7&amp;order=12&amp;order2=0\">\\n            Progress\\n                      </a></th><th class=\"header-title tags\">\\n          Tags\\n                  </th></tr>,\n",
       " <tr class=\"list-table-data\">\\n<td :class=\"getStatusClass(item)\" class=\"data status\"></td>\\n<td class=\"data number\">${ i + 1 }</td>\\n<td class=\"data image\">\\n<a :href=\"item.anime_url\" class=\"link sort\">\\n<img :src=\"item.anime_image_path\" class=\"hover-info image\"/>\\n</a>\\n</td>\\n<td class=\"data title clearfix\">\\n<a :href=\"item.anime_url\" class=\"link sort\">${ item.anime_title }</a>\\n<a :href=\"item.video_url\" class=\"icon-watch ml4\" title=\"Watch Episode Video\" v-if=\"item.has_episode_video\">Watch Episode Video</a>\\n<span class=\"rewatching\" v-show=\"item.status == 2 &amp;&amp; item.is_rewatching == 1\">\\n            ${ item.status == 2 &amp;&amp; item.is_rewatching == 1 ? \"Re-watching\" : \"\" }\\n          </span>\\n<span class=\"content-status\" v-show=\"getContentStatusText(item)\">\\n            ${ getContentStatusText(item) }\\n          </span>\\n<div class=\"add-edit-more\">\\n<span class=\"edit\" v-if=\"item.is_added_to_list\">\\n<a :href=\"'/ownlist/anime/'+item.anime_id+'/edit?hideLayout'\" class=\"List_LightBox\">Edit</a>\\n</span>\\n<span class=\"add\" v-if=\"!item.is_added_to_list\">\\n<a :href=\"'/ownlist/anime/add?selected_series_id='+item.anime_id+'&amp;hideLayout'\" class=\"List_LightBox\">Add</a>\\n</span>\\n            -\\n            <span class=\"more\">\\n<a @click.prevent=\"showMore(item)\" href=\"#\">More</a>\\n</span>\\n</div>\\n</td>\\n<td class=\"data score\">\\n<a :class=\"classObject\" @click.prevent=\"!canEdit || (item.isScoreInEdit = true)\" class=\"link\" href=\"#\" v-show=\"!item.isScoreInEdit\">\\n            ${ item.score != 0 ? item.score : \"-\" }\\n          </a>\\n<transition name=\"edit\" v-on:enter=\"editTransition\">\\n<select @blur=\"item.isScoreInEdit = false\" @change=\"editScore(item)\" @focusout=\"item.isScoreInEdit = false\" v-if=\"item.isScoreInEdit\" v-model=\"item.score\">\\n<option value=\"0\">-</option>\\n<option value=\"1\">1</option>\\n<option value=\"2\">2</option>\\n<option value=\"3\">3</option>\\n<option value=\"4\">4</option>\\n<option value=\"5\">5</option>\\n<option value=\"6\">6</option>\\n<option value=\"7\">7</option>\\n<option value=\"8\">8</option>\\n<option value=\"9\">9</option>\\n<option value=\"10\">10</option>\\n</select>\\n</transition>\\n</td>\\n<td class=\"data type\">\\n          ${ item.anime_media_type_string }\\n        </td>\\n<td class=\"data progress\">\\n<div :class=\"'progress-'+item.anime_id\">\\n<span v-if=\"!getIsCompleted(item)\">\\n<a :class=\"classObject\" @click.prevent=\"!canEdit || (item.isEpisodeInEdit = true)\" class=\"link\" href=\"#\" v-if=\"!item.isEpisodeInEdit\">${ item.num_watched_episodes == 0 ? \"-\" : item.num_watched_episodes }</a>\\n<transition name=\"edit\" v-on:enter=\"editTransition\">\\n<input @blur=\"item.isEpisodeInEdit = false\" @change=\"editEpisode(item)\" @focusout=\"item.isEpisodeInEdit = false\" style=\"width:30px;\" type=\"text\" v-if=\"item.isEpisodeInEdit\" v-model=\"item.num_watched_episodes\"/>\\n</transition>\\n              /\\n            </span>\\n<span>${ item.anime_num_episodes == 0 ? \"-\" : item.anime_num_episodes }</span>\\n<a @click.prevent=\"!canEdit || incrementEpisode(item)\" class=\"icon-add-episode\" href=\"#\" v-if=\"!getIsCompleted(item) &amp;&amp; canEdit\">\\n<i class=\"fa fa-plus-circle\"></i>\\n</a>\\n</div>\\n</td>\\n<td :id=\"'tags-'+item.anime_id\" class=\"data tags\">\\n<div :class=\"'tags-'+item.anime_id\" v-if=\"!item.isTagInEdit\">\\n<span v-for=\"(tag, i) in getParsedTags(item)\">${ i!=0 ? \", \" : \"\" }<a :href=\"generateTagPath(tag)\">${ tag }</a></span>\\n</div>\\n<transition name=\"edit\" v-on:enter=\"editTransition\">\\n<textarea @blur=\"item.isTagInEdit=false\" @change=\"editTag(item)\" @focusout=\"item.isTagInEdit=false\" @keydown.13=\"editTag(item)\" v-if=\"item.isTagInEdit\" v-model=\"item.tags\"></textarea>\\n</transition>\\n<a @click.prevent=\"item.isTagInEdit = true\" class=\"edit\" href=\"#\" v-if=\"canEdit &amp;&amp; !item.isTagInEdit\">Edit</a>\\n</td>\\n</tr>,\n",
       " <tr :id=\"'more-'+item.anime_id\" class=\"more-info\">\\n<td class=\"more-content\" colspan=\"8\">\\n</td>\\n</tr>]"
      ]
     },
     "execution_count": 16,
     "metadata": {},
     "output_type": "execute_result"
    }
   ],
   "source": [
    "row = html_soup.find_all(\"tr\")\n",
    "row"
   ]
  },
  {
   "cell_type": "code",
   "execution_count": 11,
   "metadata": {},
   "outputs": [
    {
     "ename": "AttributeError",
     "evalue": "'NoneType' object has no attribute 'text'",
     "output_type": "error",
     "traceback": [
      "\u001b[0;31m---------------------------------------------------------------------------\u001b[0m",
      "\u001b[0;31mAttributeError\u001b[0m                            Traceback (most recent call last)",
      "\u001b[0;32m<ipython-input-11-7a8875cac902>\u001b[0m in \u001b[0;36m<module>\u001b[0;34m()\u001b[0m\n\u001b[1;32m      3\u001b[0m     \u001b[0;32mreturn\u001b[0m \u001b[0mtable_row\u001b[0m\u001b[0;34m.\u001b[0m\u001b[0mfind\u001b[0m\u001b[0;34m(\u001b[0m\u001b[0;34m\"a\"\u001b[0m\u001b[0;34m,\u001b[0m \u001b[0;34m{\u001b[0m\u001b[0;34m\"class\"\u001b[0m \u001b[0;34m:\u001b[0m \u001b[0;34m\"animetitle\"\u001b[0m\u001b[0;34m}\u001b[0m\u001b[0;34m)\u001b[0m\u001b[0;34m.\u001b[0m\u001b[0mtext\u001b[0m\u001b[0;34m.\u001b[0m\u001b[0mstrip\u001b[0m\u001b[0;34m(\u001b[0m\u001b[0;34m)\u001b[0m\u001b[0;34m\u001b[0m\u001b[0m\n\u001b[1;32m      4\u001b[0m \u001b[0;34m\u001b[0m\u001b[0m\n\u001b[0;32m----> 5\u001b[0;31m \u001b[0mget_name\u001b[0m\u001b[0;34m(\u001b[0m\u001b[0mrow\u001b[0m\u001b[0;34m)\u001b[0m\u001b[0;34m\u001b[0m\u001b[0m\n\u001b[0m",
      "\u001b[0;32m<ipython-input-11-7a8875cac902>\u001b[0m in \u001b[0;36mget_name\u001b[0;34m(table_row)\u001b[0m\n\u001b[1;32m      1\u001b[0m \u001b[0;31m#finding name\u001b[0m\u001b[0;34m\u001b[0m\u001b[0;34m\u001b[0m\u001b[0m\n\u001b[1;32m      2\u001b[0m \u001b[0;32mdef\u001b[0m \u001b[0mget_name\u001b[0m\u001b[0;34m(\u001b[0m\u001b[0mtable_row\u001b[0m\u001b[0;34m)\u001b[0m\u001b[0;34m:\u001b[0m\u001b[0;34m\u001b[0m\u001b[0m\n\u001b[0;32m----> 3\u001b[0;31m     \u001b[0;32mreturn\u001b[0m \u001b[0mtable_row\u001b[0m\u001b[0;34m.\u001b[0m\u001b[0mfind\u001b[0m\u001b[0;34m(\u001b[0m\u001b[0;34m\"a\"\u001b[0m\u001b[0;34m,\u001b[0m \u001b[0;34m{\u001b[0m\u001b[0;34m\"class\"\u001b[0m \u001b[0;34m:\u001b[0m \u001b[0;34m\"animetitle\"\u001b[0m\u001b[0;34m}\u001b[0m\u001b[0;34m)\u001b[0m\u001b[0;34m.\u001b[0m\u001b[0mtext\u001b[0m\u001b[0;34m.\u001b[0m\u001b[0mstrip\u001b[0m\u001b[0;34m(\u001b[0m\u001b[0;34m)\u001b[0m\u001b[0;34m\u001b[0m\u001b[0m\n\u001b[0m\u001b[1;32m      4\u001b[0m \u001b[0;34m\u001b[0m\u001b[0m\n\u001b[1;32m      5\u001b[0m \u001b[0mget_name\u001b[0m\u001b[0;34m(\u001b[0m\u001b[0mrow\u001b[0m\u001b[0;34m)\u001b[0m\u001b[0;34m\u001b[0m\u001b[0m\n",
      "\u001b[0;31mAttributeError\u001b[0m: 'NoneType' object has no attribute 'text'"
     ]
    }
   ],
   "source": [
    "#finding name\n",
    "def get_name(table_row):\n",
    "    return table_row.find(\"a\", {\"class\" : \"animetitle\"}).text.strip()\n",
    "\n",
    "get_name(row)"
   ]
  },
  {
   "cell_type": "code",
   "execution_count": null,
   "metadata": {
    "collapsed": true
   },
   "outputs": [],
   "source": [
    "#finding id\n",
    "def get_id(table_row):\n",
    "    anime_link = table_row.find(\"a\", {\"class\" : \"animetitle\"})['href']\n",
    "    anime_id = re.findall(r'anime/([0-9]*)/', anime_link)[0].strip()\n",
    "    return anime_id\n",
    "\n",
    "get_id(row)"
   ]
  },
  {
   "cell_type": "code",
   "execution_count": null,
   "metadata": {
    "collapsed": true
   },
   "outputs": [],
   "source": [
    "#finding rating\n",
    "def get_rating(table_row):\n",
    "    return table_row.find(\"td\", \n",
    "                 {\n",
    "                     \"align\" : \"center\",\n",
    "                     \"width\" : \"45\"\n",
    "                 }\n",
    "                ).text.strip()\n",
    "get_rating(row)"
   ]
  },
  {
   "cell_type": "code",
   "execution_count": null,
   "metadata": {
    "collapsed": true
   },
   "outputs": [],
   "source": [
    "#find progress\n",
    "def get_progress(table_row):\n",
    "    return table_row.find(\"td\", \n",
    "                 {\n",
    "                     \"align\" : \"center\",\n",
    "                     \"width\" : \"70\"\n",
    "                 }\n",
    "                ).text.strip()\n",
    "get_progress(row)"
   ]
  },
  {
   "cell_type": "code",
   "execution_count": 12,
   "metadata": {
    "collapsed": true
   },
   "outputs": [],
   "source": [
    "for i, row in enumerate(html_soup.find_all(\"tr\")):\n",
    "    try:\n",
    "        print(i, get_name(row) , get_id(row) , get_rating(row) , get_progress(row))\n",
    "    except:\n",
    "        pass"
   ]
  },
  {
   "cell_type": "code",
   "execution_count": null,
   "metadata": {
    "collapsed": true
   },
   "outputs": [],
   "source": []
  },
  {
   "cell_type": "code",
   "execution_count": null,
   "metadata": {
    "collapsed": true
   },
   "outputs": [],
   "source": []
  },
  {
   "cell_type": "code",
   "execution_count": null,
   "metadata": {
    "collapsed": true
   },
   "outputs": [],
   "source": []
  },
  {
   "cell_type": "code",
   "execution_count": 19,
   "metadata": {},
   "outputs": [
    {
     "ename": "ValueError",
     "evalue": "No JSON object could be decoded",
     "output_type": "error",
     "traceback": [
      "\u001b[0;31m---------------------------------------------------------------------------\u001b[0m",
      "\u001b[0;31mValueError\u001b[0m                                Traceback (most recent call last)",
      "\u001b[0;32m<ipython-input-19-670418389d1b>\u001b[0m in \u001b[0;36m<module>\u001b[0;34m()\u001b[0m\n\u001b[0;32m----> 1\u001b[0;31m \u001b[0mresponse\u001b[0m\u001b[0;34m.\u001b[0m\u001b[0mjson\u001b[0m\u001b[0;34m(\u001b[0m\u001b[0;34m)\u001b[0m\u001b[0;34m\u001b[0m\u001b[0m\n\u001b[0m",
      "\u001b[0;32m/Users/xtwang/anaconda/lib/python2.7/site-packages/requests/models.pyc\u001b[0m in \u001b[0;36mjson\u001b[0;34m(self, **kwargs)\u001b[0m\n\u001b[1;32m    883\u001b[0m                     \u001b[0;31m# used.\u001b[0m\u001b[0;34m\u001b[0m\u001b[0;34m\u001b[0m\u001b[0m\n\u001b[1;32m    884\u001b[0m                     \u001b[0;32mpass\u001b[0m\u001b[0;34m\u001b[0m\u001b[0m\n\u001b[0;32m--> 885\u001b[0;31m         \u001b[0;32mreturn\u001b[0m \u001b[0mcomplexjson\u001b[0m\u001b[0;34m.\u001b[0m\u001b[0mloads\u001b[0m\u001b[0;34m(\u001b[0m\u001b[0mself\u001b[0m\u001b[0;34m.\u001b[0m\u001b[0mtext\u001b[0m\u001b[0;34m,\u001b[0m \u001b[0;34m**\u001b[0m\u001b[0mkwargs\u001b[0m\u001b[0;34m)\u001b[0m\u001b[0;34m\u001b[0m\u001b[0m\n\u001b[0m\u001b[1;32m    886\u001b[0m \u001b[0;34m\u001b[0m\u001b[0m\n\u001b[1;32m    887\u001b[0m     \u001b[0;34m@\u001b[0m\u001b[0mproperty\u001b[0m\u001b[0;34m\u001b[0m\u001b[0m\n",
      "\u001b[0;32m/Users/xtwang/anaconda/lib/python2.7/json/__init__.pyc\u001b[0m in \u001b[0;36mloads\u001b[0;34m(s, encoding, cls, object_hook, parse_float, parse_int, parse_constant, object_pairs_hook, **kw)\u001b[0m\n\u001b[1;32m    337\u001b[0m             \u001b[0mparse_int\u001b[0m \u001b[0;32mis\u001b[0m \u001b[0mNone\u001b[0m \u001b[0;32mand\u001b[0m \u001b[0mparse_float\u001b[0m \u001b[0;32mis\u001b[0m \u001b[0mNone\u001b[0m \u001b[0;32mand\u001b[0m\u001b[0;34m\u001b[0m\u001b[0m\n\u001b[1;32m    338\u001b[0m             parse_constant is None and object_pairs_hook is None and not kw):\n\u001b[0;32m--> 339\u001b[0;31m         \u001b[0;32mreturn\u001b[0m \u001b[0m_default_decoder\u001b[0m\u001b[0;34m.\u001b[0m\u001b[0mdecode\u001b[0m\u001b[0;34m(\u001b[0m\u001b[0ms\u001b[0m\u001b[0;34m)\u001b[0m\u001b[0;34m\u001b[0m\u001b[0m\n\u001b[0m\u001b[1;32m    340\u001b[0m     \u001b[0;32mif\u001b[0m \u001b[0mcls\u001b[0m \u001b[0;32mis\u001b[0m \u001b[0mNone\u001b[0m\u001b[0;34m:\u001b[0m\u001b[0;34m\u001b[0m\u001b[0m\n\u001b[1;32m    341\u001b[0m         \u001b[0mcls\u001b[0m \u001b[0;34m=\u001b[0m \u001b[0mJSONDecoder\u001b[0m\u001b[0;34m\u001b[0m\u001b[0m\n",
      "\u001b[0;32m/Users/xtwang/anaconda/lib/python2.7/json/decoder.pyc\u001b[0m in \u001b[0;36mdecode\u001b[0;34m(self, s, _w)\u001b[0m\n\u001b[1;32m    362\u001b[0m \u001b[0;34m\u001b[0m\u001b[0m\n\u001b[1;32m    363\u001b[0m         \"\"\"\n\u001b[0;32m--> 364\u001b[0;31m         \u001b[0mobj\u001b[0m\u001b[0;34m,\u001b[0m \u001b[0mend\u001b[0m \u001b[0;34m=\u001b[0m \u001b[0mself\u001b[0m\u001b[0;34m.\u001b[0m\u001b[0mraw_decode\u001b[0m\u001b[0;34m(\u001b[0m\u001b[0ms\u001b[0m\u001b[0;34m,\u001b[0m \u001b[0midx\u001b[0m\u001b[0;34m=\u001b[0m\u001b[0m_w\u001b[0m\u001b[0;34m(\u001b[0m\u001b[0ms\u001b[0m\u001b[0;34m,\u001b[0m \u001b[0;36m0\u001b[0m\u001b[0;34m)\u001b[0m\u001b[0;34m.\u001b[0m\u001b[0mend\u001b[0m\u001b[0;34m(\u001b[0m\u001b[0;34m)\u001b[0m\u001b[0;34m)\u001b[0m\u001b[0;34m\u001b[0m\u001b[0m\n\u001b[0m\u001b[1;32m    365\u001b[0m         \u001b[0mend\u001b[0m \u001b[0;34m=\u001b[0m \u001b[0m_w\u001b[0m\u001b[0;34m(\u001b[0m\u001b[0ms\u001b[0m\u001b[0;34m,\u001b[0m \u001b[0mend\u001b[0m\u001b[0;34m)\u001b[0m\u001b[0;34m.\u001b[0m\u001b[0mend\u001b[0m\u001b[0;34m(\u001b[0m\u001b[0;34m)\u001b[0m\u001b[0;34m\u001b[0m\u001b[0m\n\u001b[1;32m    366\u001b[0m         \u001b[0;32mif\u001b[0m \u001b[0mend\u001b[0m \u001b[0;34m!=\u001b[0m \u001b[0mlen\u001b[0m\u001b[0;34m(\u001b[0m\u001b[0ms\u001b[0m\u001b[0;34m)\u001b[0m\u001b[0;34m:\u001b[0m\u001b[0;34m\u001b[0m\u001b[0m\n",
      "\u001b[0;32m/Users/xtwang/anaconda/lib/python2.7/json/decoder.pyc\u001b[0m in \u001b[0;36mraw_decode\u001b[0;34m(self, s, idx)\u001b[0m\n\u001b[1;32m    380\u001b[0m             \u001b[0mobj\u001b[0m\u001b[0;34m,\u001b[0m \u001b[0mend\u001b[0m \u001b[0;34m=\u001b[0m \u001b[0mself\u001b[0m\u001b[0;34m.\u001b[0m\u001b[0mscan_once\u001b[0m\u001b[0;34m(\u001b[0m\u001b[0ms\u001b[0m\u001b[0;34m,\u001b[0m \u001b[0midx\u001b[0m\u001b[0;34m)\u001b[0m\u001b[0;34m\u001b[0m\u001b[0m\n\u001b[1;32m    381\u001b[0m         \u001b[0;32mexcept\u001b[0m \u001b[0mStopIteration\u001b[0m\u001b[0;34m:\u001b[0m\u001b[0;34m\u001b[0m\u001b[0m\n\u001b[0;32m--> 382\u001b[0;31m             \u001b[0;32mraise\u001b[0m \u001b[0mValueError\u001b[0m\u001b[0;34m(\u001b[0m\u001b[0;34m\"No JSON object could be decoded\"\u001b[0m\u001b[0;34m)\u001b[0m\u001b[0;34m\u001b[0m\u001b[0m\n\u001b[0m\u001b[1;32m    383\u001b[0m         \u001b[0;32mreturn\u001b[0m \u001b[0mobj\u001b[0m\u001b[0;34m,\u001b[0m \u001b[0mend\u001b[0m\u001b[0;34m\u001b[0m\u001b[0m\n",
      "\u001b[0;31mValueError\u001b[0m: No JSON object could be decoded"
     ]
    }
   ],
   "source": [
    "response.json()"
   ]
  },
  {
   "cell_type": "code",
   "execution_count": 67,
   "metadata": {
    "collapsed": true
   },
   "outputs": [],
   "source": [
    "URL = \"https://myanimelist.net/animelist/{}/load.json?offset={}&status=7\"\n",
    "\n",
    "USERNAME = \"zzzdj\"\n",
    "OFFSET = 0"
   ]
  },
  {
   "cell_type": "code",
   "execution_count": 68,
   "metadata": {},
   "outputs": [
    {
     "name": "stdout",
     "output_type": "stream",
     "text": [
      "59.csv                        get_username_from_club.ipynb\r\n",
      "get_anime_list.ipynb          get_username_from_forum.ipynb\r\n"
     ]
    }
   ],
   "source": [
    "!ls"
   ]
  },
  {
   "cell_type": "code",
   "execution_count": 69,
   "metadata": {
    "collapsed": true
   },
   "outputs": [],
   "source": [
    "import json"
   ]
  },
  {
   "cell_type": "code",
   "execution_count": 70,
   "metadata": {
    "collapsed": true
   },
   "outputs": [],
   "source": [
    "# f = open(\"../src/sample.json\")\n",
    "response = get(URL.format(USERNAME,OFFSET))"
   ]
  },
  {
   "cell_type": "code",
   "execution_count": 71,
   "metadata": {
    "collapsed": true
   },
   "outputs": [],
   "source": [
    "myjson = response.json()"
   ]
  },
  {
   "cell_type": "code",
   "execution_count": 72,
   "metadata": {},
   "outputs": [
    {
     "data": {
      "text/plain": [
       "100"
      ]
     },
     "execution_count": 72,
     "metadata": {},
     "output_type": "execute_result"
    }
   ],
   "source": [
    "len(myjson)"
   ]
  },
  {
   "cell_type": "code",
   "execution_count": 78,
   "metadata": {},
   "outputs": [
    {
     "data": {
      "text/plain": [
       "{u'anime_airing_status': 2,\n",
       " u'anime_end_date_string': u'04-11-15',\n",
       " u'anime_id': 23587,\n",
       " u'anime_image_path': u'https://myanimelist.cdn-dena.com/r/96x136/images/anime/10/70733.jpg?s=efee95cdbf92ebacd1ae00e9be000dc9',\n",
       " u'anime_licensors': None,\n",
       " u'anime_media_type_string': u'TV',\n",
       " u'anime_mpaa_rating_string': u'PG-13',\n",
       " u'anime_num_episodes': 13,\n",
       " u'anime_season': None,\n",
       " u'anime_start_date_string': u'01-10-15',\n",
       " u'anime_studios': None,\n",
       " u'anime_title': u'The iDOLM@STER Cinderella Girls',\n",
       " u'anime_url': u'/anime/23587/The_iDOLMSTER_Cinderella_Girls',\n",
       " u'days_string': None,\n",
       " u'finish_date_string': None,\n",
       " u'has_episode_video': True,\n",
       " u'has_promotion_video': True,\n",
       " u'has_video': True,\n",
       " u'is_added_to_list': False,\n",
       " u'is_rewatching': 0,\n",
       " u'num_watched_episodes': 0,\n",
       " u'priority_string': u'Low',\n",
       " u'score': 0,\n",
       " u'start_date_string': None,\n",
       " u'status': 1,\n",
       " u'storage_string': u'',\n",
       " u'tags': u'',\n",
       " u'video_url': u'/anime/23587/The_iDOLMSTER_Cinderella_Girls/video'}"
      ]
     },
     "execution_count": 78,
     "metadata": {},
     "output_type": "execute_result"
    }
   ],
   "source": [
    "myjson[12]"
   ]
  },
  {
   "cell_type": "code",
   "execution_count": 88,
   "metadata": {
    "scrolled": false
   },
   "outputs": [
    {
     "ename": "SyntaxError",
     "evalue": "invalid syntax (<ipython-input-88-8a363204ba45>, line 85)",
     "output_type": "error",
     "traceback": [
      "\u001b[0;36m  File \u001b[0;32m\"<ipython-input-88-8a363204ba45>\"\u001b[0;36m, line \u001b[0;32m85\u001b[0m\n\u001b[0;31m    return False\u001b[0m\n\u001b[0m         ^\u001b[0m\n\u001b[0;31mSyntaxError\u001b[0m\u001b[0;31m:\u001b[0m invalid syntax\n"
     ]
    }
   ],
   "source": [
    "import requests\n",
    "from time import sleep\n",
    "import os.path\n",
    "import csv\n",
    "\n",
    "\"\"\"\n",
    "Function takes in username, returns list of all reviews\n",
    "\n",
    "Args:\n",
    "    username           : MyAnimeList username\n",
    "    output_folder      : Output folder containing users anime list\n",
    "    ignore_present     : Set True to skip users that have already been scraped. False to update.\n",
    "    \n",
    "\n",
    "Example of json:\n",
    "{\n",
    "    u'anime_airing_status': 2,\n",
    "    u'anime_end_date_string': u'04-11-15',\n",
    "    u'anime_id': 23587,\n",
    "    u'anime_image_path': u'https://myanimelist.cdn-dena.com/r/96x136/images/anime/10/70733.jpg?s=efee95cdbf92ebacd1ae00e9be000dc9',\n",
    "    u'anime_licensors': None,\n",
    "    u'anime_media_type_string': u'TV',\n",
    "    u'anime_mpaa_rating_string': u'PG-13',\n",
    "    u'anime_num_episodes': 13,\n",
    "    u'anime_season': None,\n",
    "    u'anime_start_date_string': u'01-10-15',\n",
    "    u'anime_studios': None,\n",
    "    u'anime_title': u'The iDOLM@STER Cinderella Girls',\n",
    "    u'anime_url': u'/anime/23587/The_iDOLMSTER_Cinderella_Girls',\n",
    "    u'days_string': None,\n",
    "    u'finish_date_string': None,\n",
    "    u'has_episode_video': True,\n",
    "    u'has_promotion_video': True,\n",
    "    u'has_video': True,\n",
    "    u'is_added_to_list': False,\n",
    "    u'is_rewatching': 0,\n",
    "    u'num_watched_episodes': 0,\n",
    "    u'priority_string': u'Low',\n",
    "    u'score': 0,\n",
    "    u'start_date_string': None,\n",
    "    u'status': 1,\n",
    "    u'storage_string': u'',\n",
    "    u'tags': u'',\n",
    "    u'video_url': u'/anime/23587/The_iDOLMSTER_Cinderella_Girls/video'\n",
    " }\n",
    "\"\"\"\n",
    "def get_anime_list_from_user(username, output_folder=\"../data/user_anime_list/\", ignore_present=True):\n",
    "    \n",
    "    # If we don't want to update existing users\n",
    "    if ignore_present:\n",
    "        if os.path.isfile(output_folder + username + \".csv\"):\n",
    "            print(\"User {} : File already present\".format(username))\n",
    "            return False\n",
    "    \n",
    "    URL = \"https://myanimelist.net/animelist/{}/load.json?offset={}&status=7\".format(username,\"{}\")\n",
    "    OFFSET = 0\n",
    "    \n",
    "    anime_reviews = []\n",
    "#    # Our header\n",
    "#     anime_reviews = [\n",
    "#         [   \n",
    "#             \"username\",\n",
    "#             \"anime_id\",\n",
    "#             \"anime_title\",\n",
    "#             \"score\",\n",
    "#             \"num_watched_episodes\",\n",
    "#             \"status\",\n",
    "#             \"priority_string\"\n",
    "#         ]\n",
    "#     ]\n",
    "    \n",
    "    while(True):\n",
    "        response = requests.get(URL.format(OFFSET))\n",
    "        \n",
    "        # Check for request refusal\n",
    "        # Sleep for 0.5s before trying again\n",
    "        while response.status_code == requests.codes.too_many_requests:\n",
    "            print (\"{} : ERROR {}\".format(response.url, response.status_code))\n",
    "            sleep(0.5)\n",
    "            response = requests.get(URL.format(OFFSET))\n",
    "        \n",
    "        # test for 404 NOT FOUNDS\n",
    "        if response.status_code != requests.codes.ok:\n",
    "            print (\"{} : ERROR NO LIST\".format(username))\n",
    "            return False\n",
    "\n",
    "        # Connection established successfully\n",
    "        anime_list_json = response.json()\n",
    "\n",
    "        # Check for empty json. Empty json indicates current user is finished.\n",
    "        if not anime_list_json:            \n",
    "            # Save review list to csv\n",
    "            output_file_path = output_folder + username + \".csv\"\n",
    "            with open(output_file_path, \"w\") as f:\n",
    "                writer = csv.writer(f)\n",
    "                writer.writerows(anime_reviews)\n",
    "    \n",
    "            print (\"{} : Finished. {} Reviews --> {}\".format(\n",
    "                    username, \n",
    "                    len(anime_reviews),\n",
    "                    output_file_path\n",
    "                    ))\n",
    "            return True\n",
    "\n",
    "        # Loop through json file and create entries\n",
    "        for anime_review in anime_list_json:\n",
    "            anime_reviews.append([\n",
    "                str(username),\n",
    "                str(anime_review[\"anime_id\"]),\n",
    "                str(anime_review[\"anime_title\"]),\n",
    "                str(anime_review[\"score\"]),\n",
    "                str(anime_review[\"num_watched_episodes\"]),\n",
    "                str(anime_review[\"status\"]),\n",
    "                str(anime_review[\"priority_string\"])\n",
    "            ])\n",
    "        OFFSET += 300    # update offset\n",
    "    return False\n",
    "        \n",
    "        \n",
    "    \n",
    "    \n",
    "# get_anime_list_from_user('zanmato666')\n",
    "get_anime_list_from_user('kyle8998',ignore_present=False)"
   ]
  },
  {
   "cell_type": "code",
   "execution_count": 87,
   "metadata": {},
   "outputs": [
    {
     "name": "stdout",
     "output_type": "stream",
     "text": [
      "https://myanimelist.net/animelist/kyle899/load.json?offset=0&status=7 : ERROR 400\n",
      "kyle8998 : Finished. 476 Reviews --> ../data/user_anime_list/kyle8998.csv\n",
      "kyle8998 : Finished. 476 Reviews --> ../data/user_anime_list/kyle8998.csv\n",
      "kyle8998 : Finished. 476 Reviews --> ../data/user_anime_list/kyle8998.csv\n",
      "kyle8998 : Finished. 476 Reviews --> ../data/user_anime_list/kyle8998.csv\n",
      "kyle8998 : Finished. 476 Reviews --> ../data/user_anime_list/kyle8998.csv\n",
      "kyle8998 : Finished. 476 Reviews --> ../data/user_anime_list/kyle8998.csv\n",
      "kyle8998 : Finished. 476 Reviews --> ../data/user_anime_list/kyle8998.csv\n",
      "https://myanimelist.net/animelist/kyle899/load.json?offset=0&status=7 : ERROR 400\n",
      "kyle8998 : Finished. 476 Reviews --> ../data/user_anime_list/kyle8998.csv\n",
      "kyle8998 : Finished. 476 Reviews --> ../data/user_anime_list/kyle8998.csv\n",
      "kyle8998 : Finished. 476 Reviews --> ../data/user_anime_list/kyle8998.csv\n"
     ]
    },
    {
     "data": {
      "text/plain": [
       "True"
      ]
     },
     "execution_count": 87,
     "metadata": {},
     "output_type": "execute_result"
    }
   ],
   "source": [
    "get_anime_list_from_user('kyle899',ignore_present=False)\n",
    "get_anime_list_from_user('kyle8998',ignore_present=False)\n",
    "get_anime_list_from_user('kyle8998',ignore_present=False)\n",
    "get_anime_list_from_user('kyle8998',ignore_present=False)\n",
    "get_anime_list_from_user('kyle8998',ignore_present=False)\n",
    "get_anime_list_from_user('kyle8998',ignore_present=False)\n",
    "get_anime_list_from_user('kyle8998',ignore_present=False)\n",
    "get_anime_list_from_user('kyle8998',ignore_present=False)\n",
    "get_anime_list_from_user('kyle899',ignore_present=False)\n",
    "get_anime_list_from_user('kyle8998',ignore_present=False)\n",
    "get_anime_list_from_user('kyle8998',ignore_present=False)\n",
    "get_anime_list_from_user('kyle8998',ignore_present=False)"
   ]
  },
  {
   "cell_type": "code",
   "execution_count": 84,
   "metadata": {},
   "outputs": [],
   "source": [
    "with open('../data/club_usernames/usernames_17-11-2018.csv', 'r') as f:\n",
    "    myNames = [line.strip() for line in f]"
   ]
  },
  {
   "cell_type": "code",
   "execution_count": 86,
   "metadata": {},
   "outputs": [
    {
     "data": {
      "text/plain": [
       "'zzzzzzzBen'"
      ]
     },
     "execution_count": 86,
     "metadata": {},
     "output_type": "execute_result"
    }
   ],
   "source": [
    "myNames[-1]"
   ]
  },
  {
   "cell_type": "code",
   "execution_count": null,
   "metadata": {},
   "outputs": [],
   "source": []
  }
 ],
 "metadata": {
  "kernelspec": {
   "display_name": "Python 3",
   "language": "python",
   "name": "python3"
  },
  "language_info": {
   "codemirror_mode": {
    "name": "ipython",
    "version": 3
   },
   "file_extension": ".py",
   "mimetype": "text/x-python",
   "name": "python",
   "nbconvert_exporter": "python",
   "pygments_lexer": "ipython3",
   "version": "3.6.6"
  }
 },
 "nbformat": 4,
 "nbformat_minor": 2
}
