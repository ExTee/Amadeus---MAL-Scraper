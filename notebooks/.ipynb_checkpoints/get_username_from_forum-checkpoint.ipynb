{
 "cells": [
  {
   "cell_type": "code",
   "execution_count": 71,
   "metadata": {
    "collapsed": true
   },
   "outputs": [],
   "source": [
    "from requests import get\n",
    "from bs4 import BeautifulSoup as soup\n",
    "from time import sleep\n",
    "import re\n",
    "#Create soup\n",
    "URL = 'https://myanimelist.net/forum/?topicid={}&show={}'\n",
    "\n",
    "\n",
    "\n",
    "\n",
    "response = get(URL.format(1751233,150))\n",
    "html_soup = soup(response.text, 'html.parser')"
   ]
  },
  {
   "cell_type": "code",
   "execution_count": 73,
   "metadata": {},
   "outputs": [
    {
     "name": "stdout",
     "output_type": "stream",
     "text": [
      "https://myanimelist.net/forum/?topicid=1751233&show=0\n",
      "https://myanimelist.net/forum/?topicid=1751233&show=50\n",
      "https://myanimelist.net/forum/?topicid=1751233&show=100\n",
      "https://myanimelist.net/forum/?topicid=1751233&show=150\n",
      "https://myanimelist.net/forum/?topicid=1751233&show=200\n",
      "Forum Topic 1751233 : No more users to grab\n"
     ]
    }
   ],
   "source": [
    "def get_users_from_forum(PID , output_folder = \"../data/\"):\n",
    "    \n",
    "    \n",
    "    output_folder = \"../forum_usernames/\"\n",
    "    #Url which accesses users of a club\n",
    "    URL = 'https://myanimelist.net/forum/?topicid={}&show={}'.format(PID,{})\n",
    "    #Offset at which users are displayed\n",
    "    OFFSET = 0\n",
    "    \n",
    "    while(True):\n",
    "\n",
    "        print (URL.format(OFFSET))\n",
    "        response = get(URL.format(OFFSET))\n",
    "        html_soup = soup(response.text, 'html.parser')\n",
    "        response.close()\n",
    "        \n",
    "        #Termination condition when no table is found\n",
    "        if html_soup.table == None:\n",
    "            print (\"Forum Topic {} : No more users to grab\".format(PID))\n",
    "            return\n",
    "        else:\n",
    "\n",
    "            #Get html table containing users\n",
    "            containers = html_soup.find_all('a', href=re.compile(\"/profile/\"))\n",
    "\n",
    "            #loop through each entry\n",
    "            users = []\n",
    "            for entry in containers:\n",
    "                try:\n",
    "                    users.append(entry.strong.text)\n",
    "                except:\n",
    "                    pass\n",
    "\n",
    "            # write to file\n",
    "            f = open(output_folder + '{}.csv'.format(PID),'a')\n",
    "#             f.write(\"\\n\".join(list(users)))\n",
    "            f.write(\"\\n\".join(users))\n",
    "            f.write(\"\\n\")\n",
    "            f.close()\n",
    "            \n",
    "            OFFSET += 50\n",
    "            sleep(3)\n",
    "            \n",
    "get_users_from_forum(1751233)"
   ]
  },
  {
   "cell_type": "code",
   "execution_count": 72,
   "metadata": {},
   "outputs": [
    {
     "data": {
      "text/plain": [
       "{u'AstZero',\n",
       " u'Botan-Chan45',\n",
       " u'Cabron',\n",
       " u'CatSoul',\n",
       " u'DesolatePsyche',\n",
       " u'Grey-Zone',\n",
       " u'HsiuqsYgnops',\n",
       " u'Manaban',\n",
       " u'NothinComplexPls',\n",
       " u'Paul',\n",
       " u'Phantomnocomics',\n",
       " u'RealmOMFG',\n",
       " u'SithSteel',\n",
       " u'Tsunshine-Chris',\n",
       " u'Zarutaku',\n",
       " u'aLotQuestion_',\n",
       " u'ahneeme',\n",
       " u'hazarddex',\n",
       " u'meatbun_',\n",
       " u'nicethings',\n",
       " u'papsoshea',\n",
       " u'yuccasnpk'}"
      ]
     },
     "execution_count": 72,
     "metadata": {},
     "output_type": "execute_result"
    }
   ],
   "source": [
    "usernames = set()\n",
    "\n",
    "for result in html_soup.find_all('a',href=re.compile(\"/profile/\")):\n",
    "    try:\n",
    "        usernames.add(result.strong.text)\n",
    "    except:\n",
    "        pass\n",
    "    \n",
    "usernames\n"
   ]
  },
  {
   "cell_type": "code",
   "execution_count": 55,
   "metadata": {
    "scrolled": true
   },
   "outputs": [
    {
     "ename": "AttributeError",
     "evalue": "'NoneType' object has no attribute 'text'",
     "output_type": "error",
     "traceback": [
      "\u001b[0;31m---------------------------------------------------------------------------\u001b[0m",
      "\u001b[0;31mAttributeError\u001b[0m                            Traceback (most recent call last)",
      "\u001b[0;32m<ipython-input-55-964a6671b0e1>\u001b[0m in \u001b[0;36m<module>\u001b[0;34m()\u001b[0m\n\u001b[0;32m----> 1\u001b[0;31m \u001b[0mhtml_soup\u001b[0m\u001b[0;34m.\u001b[0m\u001b[0mfind_all\u001b[0m\u001b[0;34m(\u001b[0m\u001b[0;34m'a'\u001b[0m\u001b[0;34m,\u001b[0m\u001b[0mhref\u001b[0m\u001b[0;34m=\u001b[0m\u001b[0mre\u001b[0m\u001b[0;34m.\u001b[0m\u001b[0mcompile\u001b[0m\u001b[0;34m(\u001b[0m\u001b[0;34m\"/profile/\"\u001b[0m\u001b[0;34m)\u001b[0m\u001b[0;34m)\u001b[0m\u001b[0;34m[\u001b[0m\u001b[0;36m1\u001b[0m\u001b[0;34m]\u001b[0m\u001b[0;34m.\u001b[0m\u001b[0mstrong\u001b[0m\u001b[0;34m.\u001b[0m\u001b[0mtext\u001b[0m\u001b[0;34m\u001b[0m\u001b[0m\n\u001b[0m",
      "\u001b[0;31mAttributeError\u001b[0m: 'NoneType' object has no attribute 'text'"
     ]
    }
   ],
   "source": [
    "html_soup.find_all('a',href=re.compile(\"/profile/\"))[1].strong.text"
   ]
  },
  {
   "cell_type": "code",
   "execution_count": 63,
   "metadata": {},
   "outputs": [
    {
     "data": {
      "text/plain": [
       "<table border=\"0\" cellpadding=\"0\" cellspacing=\"0\" class=\"forum_topic_message\" width=\"100%\">\\n<tr>\\n<td class=\"forum_boardrow2\" style=\"border-width: 0px 0px 1px 1px;\" valign=\"top\" width=\"135\">\\n<div class=\"\">\\n<div id=\"messageuser56217961\" style=\"padding-bottom: 2px;\"><a href=\"/profile/Grey-Zone\"><strong>Grey-Zone</strong></a></div>\\n<a class=\"forum-icon\" href=\"/profile/Grey-Zone\"><img border=\"0\" src=\"https://myanimelist.cdn-dena.com/images/useravatars/4147725.jpg\" vspace=\"2\"/></a><br/>\\n        Offline<br/>\\n        Joined: Oct 2014<br/>\\n        Posts: 6378\\n        </div>\\n</td>\\n<td class=\"forum_boardrow1\" style=\"border-width: 0px 1px 1px 1px;\" valign=\"top\"><div class=\"clearfix word-break\"><div class=\"clearfix\" id=\"message56217961\"><b>EDIT: Please note that this is NOT a thread about Goblin Slayer, but it does touch upon the controversy a bit, please don't derail this thread with off-topic talks about Goblin Slayer itself. This thread is about why the internet collective gets outraged about certain things and what they get outraged about!</b><br>\\n<br>\\n---<br>\\noriginal OP:<br/>\\n<br/>\\n<br/>\\nSo what's going on here?<br/>\\n<br/>\\nEpisode 1 of <a href=\"https://myanimelist.net/anime/37349/Goblin_Slayer\" rel=\"nofollow\">Goblin Slayer</a> created a grand controversy because of a (not explicitly shown) rape scene of a teenager/woman adventurer (we don't know the exact age) by a group of Goblins.<br/>\\n<br/>\\nOn the other hand Episode 7 of <a href=\"https://myanimelist.net/anime/37430/Tensei_shitara_Slime_Datta_Ken\" rel=\"nofollow\">Tensei Shitara Slime Datta Ken</a> showed a scene where a girl was possessed by a Flame Spirit and murdered a Fox monster alongside a girl (about five years old, i.e. a <b>CHILD</b>) that's holding it. On-screen that is. You could literally see them get roasted and being pulverized on-screen.<br/>\\n<br/>\\nSo how shall I take it? The \"outrage police\" that are usually the ones who spread this stuff like a wildfire and are the ones who usually turn it into a controversy seem to be oddly silent about this.<br/>\\n<br/>\\n<br/>\\nDon't get me wrong, if I could choose, I'd prefer if NONE of the outrage would exist as we are just talking about drawn and animated fiction (and in the case of Goblin Slayer partially computer generated as well). Or rather we are talking about fiction in general. It's not real.<br/>\\n<br/>\\n<br/>\\n<b>My Personal opinion:</b> This inconsistency doesn't seem like it's sending a good message. Is this supposed to mean that compared to rape of a teenager/young adult, the murder of a child is supposedly trivial? The \"outrage police\" seriously should check their own morals first if they want to \"teach\" others about morality. I mean no one cared about the Goblin children getting killed, but they are a innately parasitic race after all, so that wasn't really much of an indication. But THIS is.</br></br></br></div><div id=\"messageEditWaiting56217961\" style=\"display: none;\"><img src=\"https://myanimelist.cdn-dena.com/images/xmlhttp-loader.gif\"/></div><div id=\"messageEdit56217961\" style=\"display: none;\"><textarea class=\"textarea\" id=\"messageEditTextArea56217961\" style=\"width: 874px; min-height: 200px\"></textarea><div style=\"margin: 2px 0px; text-align: left;\"><input class=\"inputButton postEditedMessage\" data-id=\"56217961\" type=\"button\" value=\"Submit\"/>\\xa0<input class=\"inputButton clearEditedMessage\" data-id=\"56217961\" name=\"cancel\" type=\"button\" value=\"Cancel\"/>\\xa0<small><a href=\"javascript:void(0);\" onclick=\"window.open('/info.php?go=bbcode','bbcode','menubar=no,scrollbars=yes,status=no,width=600,height=700');\">BBCode</a></small></div></div><div style=\"margin-top: 8px;\"><em>Modified by Grey-Zone, Yesterday, 6:57 AM</em></div><div class=\"postActions\"></div><div class=\"sig\"><div style=\"text-align: right;\"><img class=\"userimg\" src=\"https://image.myanimelist.net/ui/Nigm4-L3s0MScDa8mcQ9L6PcjNRThrHm0lbi4TyXAElhMGSbUd1YuTtDE6HT--1ibNugZ7KlrDQm99EleH1Eiw\"/></div></div></div></td>\\n</tr></table>"
      ]
     },
     "execution_count": 63,
     "metadata": {},
     "output_type": "execute_result"
    }
   ],
   "source": [
    "html_soup.table"
   ]
  },
  {
   "cell_type": "code",
   "execution_count": null,
   "metadata": {
    "collapsed": true
   },
   "outputs": [],
   "source": []
  }
 ],
 "metadata": {
  "kernelspec": {
   "display_name": "Python 3",
   "language": "python",
   "name": "python3"
  },
  "language_info": {
   "codemirror_mode": {
    "name": "ipython",
    "version": 2
   },
   "file_extension": ".py",
   "mimetype": "text/x-python",
   "name": "python",
   "nbconvert_exporter": "python",
   "pygments_lexer": "ipython2",
   "version": "2.7.13"
  }
 },
 "nbformat": 4,
 "nbformat_minor": 2
}
